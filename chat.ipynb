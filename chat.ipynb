{
 "cells": [
  {
   "cell_type": "code",
   "execution_count": 8,
   "metadata": {},
   "outputs": [
    {
     "name": "stdout",
     "output_type": "stream",
     "text": [
      "[{'generated_text': 'what is python  Source: Google Finance. Note: The “ Pyotrify’ premium” is not included in the P/E calculation, however. Source: Google Finance. I’ll update my article on the P'}]\n"
     ]
    }
   ],
   "source": [
    "import google.generativeai as genai\n",
    "\n",
    "genai.configure(api_key=\"YOUR_API_KEY\")\n",
    "\n",
    "# Set up the model\n",
    "generation_config = {\n",
    "  \"temperature\": 0.9,\n",
    "  \"top_p\": 0.5,\n",
    "  \"top_k\": 10,\n",
    "  \"max_output_tokens\": 2048,\n",
    "}\n",
    "\n",
    "safety_settings = [\n",
    "  {\n",
    "    \"category\": \"HARM_CATEGORY_HARASSMENT\",\n",
    "    \"threshold\": \"BLOCK_MEDIUM_AND_ABOVE\"\n",
    "  },\n",
    "  {\n",
    "    \"category\": \"HARM_CATEGORY_HATE_SPEECH\",\n",
    "    \"threshold\": \"BLOCK_MEDIUM_AND_ABOVE\"\n",
    "  },\n",
    "  {\n",
    "    \"category\": \"HARM_CATEGORY_SEXUALLY_EXPLICIT\",\n",
    "    \"threshold\": \"BLOCK_MEDIUM_AND_ABOVE\"\n",
    "  },\n",
    "  {\n",
    "    \"category\": \"HARM_CATEGORY_DANGEROUS_CONTENT\",\n",
    "    \"threshold\": \"BLOCK_MEDIUM_AND_ABOVE\"\n",
    "  },\n",
    "]\n",
    "\n",
    "model = genai.GenerativeModel(model_name=\"gemini-1.0-pro\",\n",
    "                              generation_config=generation_config,\n",
    "                              safety_settings=safety_settings)\n",
    "\n",
    "convo = model.start_chat(history=[\n",
    "  {\n",
    "    \"role\": \"user\",\n",
    "    \"parts\": [\"what companies are good stocks\"]\n",
    "  },\n",
    "  {\n",
    "    \"role\": \"model\",\n",
    "    \"parts\": [\"**Large-Cap Growth Stocks:**\\n\\n* Apple (AAPL)\\n* Microsoft (MSFT)\\n* Amazon (AMZN)\\n* Alphabet (GOOGL)\\n* Tesla (TSLA)\\n\\n**Large-Cap Value Stocks:**\\n\\n* Berkshire Hathaway (BRK.A)\\n* Johnson & Johnson (JNJ)\\n* Procter & Gamble (PG)\\n* Coca-Cola (KO)\\n* ExxonMobil (XOM)\\n\\n**Mid-Cap Growth Stocks:**\\n\\n* CrowdStrike (CRWD)\\n* Zoom Video Communications (ZM)\\n* DocuSign (DOCU)\\n* Shopify (SHOP)\\n* Roku (ROKU)\\n\\n**Mid-Cap Value Stocks:**\\n\\n* General Dynamics (GD)\\n* Lockheed Martin (LMT)\\n* Raytheon Technologies (RTX)\\n* Honeywell International (HON)\\n* Boeing (BA)\\n\\n**Small-Cap Growth Stocks:**\\n\\n* Etsy (ETSY)\\n* Fiverr (FVRR)\\n* Chewy (CHWY)\\n* Peloton Interactive (PTON)\\n* DraftKings (DKNG)\\n\\n**Small-Cap Value Stocks:**\\n\\n* American Water Works (AWK)\\n* NextEra Energy (NEE)\\n* W.P. Carey (WPC)\\n* Realty Income (O)\\n* Omega Healthcare Investors (OHI)\\n\\n**Other Considerations:**\\n\\n* **Industry:** Consider investing in companies operating in growing industries with strong competitive advantages.\\n* **Financial Health:** Analyze companies' financial statements to assess their profitability, debt levels, and cash flow.\\n* **Management:** Evaluate the experience and track record of the company's management team.\\n* **Valuation:** Ensure that the stock price is not significantly overvalued compared to its earnings and growth potential.\\n* **Diversification:** Spread your investments across different sectors and company sizes to reduce risk.\"]\n",
    "  },\n",
    "  {\n",
    "    \"role\": \"user\",\n",
    "    \"parts\": [\"good stock\"]\n",
    "  },\n",
    "  {\n",
    "    \"role\": \"model\",\n",
    "    \"parts\": [\"**Good stocks** are those that have the potential to provide investors with a combination of capital appreciation and dividend income over the long term. They typically have the following characteristics:\\n\\n* **Strong financial performance:** Consistent profitability, low debt levels, and strong cash flow.\\n* **Competitive advantage:** A unique product or service that differentiates the company from its competitors.\\n* **Experienced management team:** A track record of success in the industry and a clear vision for the company's future.\\n* **Growing industry:** Operating in an industry with favorable long-term growth prospects.\\n* **Reasonable valuation:** Trading at a fair price relative to its earnings and growth potential.\\n\\nHere are some examples of good stocks that meet these criteria:\\n\\n* **Apple (AAPL)**: A technology giant with a strong brand, innovative products, and a loyal customer base.\\n* **Microsoft (MSFT)**: A leading provider of software, cloud services, and hardware with a dominant market position.\\n* **Amazon (AMZN)**: An e-commerce and cloud computing behemoth with a vast product selection and a focus on customer convenience.\\n* **Alphabet (GOOGL)**: The parent company of Google, which dominates the search engine and online advertising markets.\\n* **Berkshire Hathaway (BRK.A)**: A conglomerate led by Warren Buffett, with a diverse portfolio of businesses and a long history of value investing.\\n* **Johnson & Johnson (JNJ)**: A healthcare company with a strong portfolio of pharmaceutical, medical device, and consumer products.\\n* **Procter & Gamble (PG)**: A consumer goods giant with a wide range of household brands, including Tide, Pampers, and Gillette.\\n* **Coca-Cola (KO)**: A beverage company with a global reach and a portfolio of iconic brands, including Coca-Cola, Sprite, and Fanta.\\n* **NextEra Energy (NEE)**: A leading renewable energy company with a focus on solar and wind power.\\n* **American Water Works (AWK)**: The largest publicly traded water utility in the United States, providing essential services to millions of customers.\\n\\nIt's important to note that no stock is guaranteed to perform well, and all investments carry some level of risk. However, by investing in good stocks with strong fundamentals and long-term growth potential, investors can increase their chances of achieving their financial goals.\"]\n",
    "  },\n",
    "])\n",
    "\n",
    "convo.send_message(\"YOUR_USER_INPUT\")\n",
    "print(convo.last.text)"
   ]
  }
 ],
 "metadata": {
  "kernelspec": {
   "display_name": "Python 3",
   "language": "python",
   "name": "python3"
  },
  "language_info": {
   "codemirror_mode": {
    "name": "ipython",
    "version": 3
   },
   "file_extension": ".py",
   "mimetype": "text/x-python",
   "name": "python",
   "nbconvert_exporter": "python",
   "pygments_lexer": "ipython3",
   "version": "3.11.0"
  }
 },
 "nbformat": 4,
 "nbformat_minor": 2
}
